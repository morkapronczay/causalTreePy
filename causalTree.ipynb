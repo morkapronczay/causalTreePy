{
 "cells": [
  {
   "cell_type": "code",
   "execution_count": 20,
   "metadata": {},
   "outputs": [
    {
     "name": "stderr",
     "output_type": "stream",
     "text": [
      "C:\\Users\\kapronczaym\\Anaconda3\\lib\\importlib\\_bootstrap.py:219: RuntimeWarning: numpy.ufunc size changed, may indicate binary incompatibility. Expected 192 from C header, got 216 from PyObject\n",
      "  return f(*args, **kwds)\n",
      "C:\\Users\\kapronczaym\\Anaconda3\\lib\\importlib\\_bootstrap.py:219: RuntimeWarning: numpy.ufunc size changed, may indicate binary incompatibility. Expected 192 from C header, got 216 from PyObject\n",
      "  return f(*args, **kwds)\n",
      "C:\\Users\\kapronczaym\\Anaconda3\\lib\\importlib\\_bootstrap.py:219: RuntimeWarning: numpy.ufunc size changed, may indicate binary incompatibility. Expected 192 from C header, got 216 from PyObject\n",
      "  return f(*args, **kwds)\n"
     ]
    }
   ],
   "source": [
    "import numpy as np\n",
    "import pandas as pd\n",
    "from sklearn.ensemble import RandomForestClassifier, RandomForestRegressor"
   ]
  },
  {
   "cell_type": "code",
   "execution_count": 84,
   "metadata": {},
   "outputs": [],
   "source": [
    "class CausalNode:\n",
    "\n",
    "    def __init__(self, x, y, idxs, treatment, min_leaf=5):\n",
    "        self.x = x \n",
    "        self.y = y\n",
    "        self.idxs = idxs \n",
    "        self.min_leaf = min_leaf\n",
    "        self.row_count = len(idxs)\n",
    "        self.col_count = x.shape[1]\n",
    "        self.val = np.mean(y[idxs])\n",
    "        self.score = float('-inf')\n",
    "        self.treatment = treatment\n",
    "        self.find_varsplit()\n",
    "        \n",
    "    def find_varsplit(self):\n",
    "        for c in range(self.col_count): self.find_better_split(c)\n",
    "        if self.is_leaf: return\n",
    "        x = self.split_col\n",
    "        lhs = np.nonzero(x <= self.split)[0]\n",
    "        rhs = np.nonzero(x > self.split)[0]\n",
    "        self.lhs = CausalNode(self.x, self.y, self.idxs[lhs], self.treatment[lhs], self.min_leaf)\n",
    "        self.rhs = CausalNode(self.x, self.y, self.idxs[rhs], self.treatment[rhs], self.min_leaf)\n",
    "        \n",
    "    def find_better_split(self, var_idx):\n",
    "      \n",
    "        x = self.x.values[self.idxs, var_idx]\n",
    "\n",
    "        for r in range(self.row_count):\n",
    "            lhs = x <= x[r]\n",
    "            rhs = x > x[r]\n",
    "            if rhs.sum() < self.min_leaf or lhs.sum() < self.min_leaf: continue\n",
    "\n",
    "            curr_score = self.find_score(lhs, rhs)\n",
    "            if curr_score > self.score: \n",
    "                self.var_idx = var_idx\n",
    "                self.score = curr_score\n",
    "                self.split = x[r]\n",
    "                \n",
    "    def find_score(self, lhs, rhs):\n",
    "        y = self.y[self.idxs]\n",
    "        y_treat = np.mean(y[self.treatment == 1])\n",
    "        y_control = np.mean(y[self.treatment == 0])\n",
    "        return (y_treat - y_control) ** 2\n",
    "                \n",
    "    @property\n",
    "    def split_col(self): return self.x.values[self.idxs,self.var_idx]\n",
    "                \n",
    "    @property\n",
    "    def is_leaf(self): return self.score == float('-inf')                \n",
    "\n",
    "    def predict(self, x):\n",
    "        return np.array([self.predict_row(xi) for xi in x])\n",
    "\n",
    "    def predict_row(self, xi):\n",
    "        if self.is_leaf: return self.val\n",
    "        node = self.lhs if xi[self.var_idx] <= self.split else self.rhs\n",
    "        return node.predict_row(xi)\n",
    "    \n",
    "class CausalTreeRegressor:\n",
    "  \n",
    "  def fit(self, X, y, treatment, min_leaf = 5):\n",
    "    self.dtree = CausalNode(X, y, np.array(np.arange(len(y))), treatment, min_leaf)\n",
    "    return self\n",
    "\n",
    "  def predict(self, X):\n",
    "    return self.dtree.predict(X.values)"
   ]
  },
  {
   "cell_type": "code",
   "execution_count": 85,
   "metadata": {},
   "outputs": [
    {
     "name": "stderr",
     "output_type": "stream",
     "text": [
      "C:\\Users\\kapronczaym\\Anaconda3\\lib\\site-packages\\numpy\\core\\fromnumeric.py:3118: RuntimeWarning: Mean of empty slice.\n",
      "  out=out, **kwargs)\n",
      "C:\\Users\\kapronczaym\\Anaconda3\\lib\\site-packages\\numpy\\core\\_methods.py:85: RuntimeWarning: invalid value encountered in double_scalars\n",
      "  ret = ret.dtype.type(ret / rcount)\n"
     ]
    }
   ],
   "source": [
    "ct = CausalTreeRegressor().fit(X=pd.DataFrame(data), y=target, treatment=data[:, 3], min_leaf=10)"
   ]
  },
  {
   "cell_type": "code",
   "execution_count": 86,
   "metadata": {},
   "outputs": [
    {
     "data": {
      "text/plain": [
       "array([32.67142857])"
      ]
     },
     "execution_count": 86,
     "metadata": {},
     "output_type": "execute_result"
    }
   ],
   "source": [
    "ct.predict(pd.DataFrame(pd.DataFrame(data[0, :]).T))"
   ]
  },
  {
   "cell_type": "code",
   "execution_count": 87,
   "metadata": {},
   "outputs": [
    {
     "data": {
      "text/plain": [
       "24.0"
      ]
     },
     "execution_count": 87,
     "metadata": {},
     "output_type": "execute_result"
    }
   ],
   "source": [
    "target[0]"
   ]
  },
  {
   "cell_type": "code",
   "execution_count": 88,
   "metadata": {},
   "outputs": [
    {
     "data": {
      "text/plain": [
       "array([29.18181818])"
      ]
     },
     "execution_count": 88,
     "metadata": {},
     "output_type": "execute_result"
    }
   ],
   "source": [
    "ct.predict(pd.DataFrame(pd.DataFrame(data[1, :]).T))"
   ]
  },
  {
   "cell_type": "code",
   "execution_count": 89,
   "metadata": {},
   "outputs": [
    {
     "data": {
      "text/plain": [
       "21.6"
      ]
     },
     "execution_count": 89,
     "metadata": {},
     "output_type": "execute_result"
    }
   ],
   "source": [
    "target[1]"
   ]
  },
  {
   "cell_type": "code",
   "execution_count": null,
   "metadata": {},
   "outputs": [],
   "source": []
  },
  {
   "cell_type": "code",
   "execution_count": null,
   "metadata": {},
   "outputs": [],
   "source": []
  },
  {
   "cell_type": "code",
   "execution_count": 79,
   "metadata": {},
   "outputs": [
    {
     "data": {
      "text/html": [
       "<div>\n",
       "<style scoped>\n",
       "    .dataframe tbody tr th:only-of-type {\n",
       "        vertical-align: middle;\n",
       "    }\n",
       "\n",
       "    .dataframe tbody tr th {\n",
       "        vertical-align: top;\n",
       "    }\n",
       "\n",
       "    .dataframe thead th {\n",
       "        text-align: right;\n",
       "    }\n",
       "</style>\n",
       "<table border=\"1\" class=\"dataframe\">\n",
       "  <thead>\n",
       "    <tr style=\"text-align: right;\">\n",
       "      <th></th>\n",
       "      <th>0</th>\n",
       "      <th>1</th>\n",
       "      <th>2</th>\n",
       "      <th>3</th>\n",
       "      <th>4</th>\n",
       "      <th>5</th>\n",
       "      <th>6</th>\n",
       "      <th>7</th>\n",
       "      <th>8</th>\n",
       "      <th>9</th>\n",
       "      <th>10</th>\n",
       "      <th>11</th>\n",
       "      <th>12</th>\n",
       "    </tr>\n",
       "  </thead>\n",
       "  <tbody>\n",
       "    <tr>\n",
       "      <th>0</th>\n",
       "      <td>0.00632</td>\n",
       "      <td>18.0</td>\n",
       "      <td>2.31</td>\n",
       "      <td>0.0</td>\n",
       "      <td>0.538</td>\n",
       "      <td>6.575</td>\n",
       "      <td>65.2</td>\n",
       "      <td>4.09</td>\n",
       "      <td>1.0</td>\n",
       "      <td>296.0</td>\n",
       "      <td>15.3</td>\n",
       "      <td>396.9</td>\n",
       "      <td>4.98</td>\n",
       "    </tr>\n",
       "  </tbody>\n",
       "</table>\n",
       "</div>"
      ],
      "text/plain": [
       "        0     1     2    3      4      5     6     7    8      9     10  \\\n",
       "0  0.00632  18.0  2.31  0.0  0.538  6.575  65.2  4.09  1.0  296.0  15.3   \n",
       "\n",
       "      11    12  \n",
       "0  396.9  4.98  "
      ]
     },
     "execution_count": 79,
     "metadata": {},
     "output_type": "execute_result"
    }
   ],
   "source": [
    "pd.DataFrame(data[0, :]).T"
   ]
  },
  {
   "cell_type": "code",
   "execution_count": null,
   "metadata": {},
   "outputs": [],
   "source": []
  },
  {
   "cell_type": "code",
   "execution_count": 60,
   "metadata": {},
   "outputs": [],
   "source": [
    "dt = DecisionTreeRegressor().fit(pd.DataFrame(data), target)"
   ]
  },
  {
   "cell_type": "code",
   "execution_count": null,
   "metadata": {},
   "outputs": [],
   "source": []
  },
  {
   "cell_type": "code",
   "execution_count": 22,
   "metadata": {},
   "outputs": [],
   "source": [
    "from sklearn.datasets import load_boston"
   ]
  },
  {
   "cell_type": "code",
   "execution_count": 40,
   "metadata": {},
   "outputs": [
    {
     "name": "stdout",
     "output_type": "stream",
     "text": [
      ".. _boston_dataset:\n",
      "\n",
      "Boston house prices dataset\n",
      "---------------------------\n",
      "\n",
      "**Data Set Characteristics:**  \n",
      "\n",
      "    :Number of Instances: 506 \n",
      "\n",
      "    :Number of Attributes: 13 numeric/categorical predictive. Median Value (attribute 14) is usually the target.\n",
      "\n",
      "    :Attribute Information (in order):\n",
      "        - CRIM     per capita crime rate by town\n",
      "        - ZN       proportion of residential land zoned for lots over 25,000 sq.ft.\n",
      "        - INDUS    proportion of non-retail business acres per town\n",
      "        - CHAS     Charles River dummy variable (= 1 if tract bounds river; 0 otherwise)\n",
      "        - NOX      nitric oxides concentration (parts per 10 million)\n",
      "        - RM       average number of rooms per dwelling\n",
      "        - AGE      proportion of owner-occupied units built prior to 1940\n",
      "        - DIS      weighted distances to five Boston employment centres\n",
      "        - RAD      index of accessibility to radial highways\n",
      "        - TAX      full-value property-tax rate per $10,000\n",
      "        - PTRATIO  pupil-teacher ratio by town\n",
      "        - B        1000(Bk - 0.63)^2 where Bk is the proportion of blacks by town\n",
      "        - LSTAT    % lower status of the population\n",
      "        - MEDV     Median value of owner-occupied homes in $1000's\n",
      "\n",
      "    :Missing Attribute Values: None\n",
      "\n",
      "    :Creator: Harrison, D. and Rubinfeld, D.L.\n",
      "\n",
      "This is a copy of UCI ML housing dataset.\n",
      "https://archive.ics.uci.edu/ml/machine-learning-databases/housing/\n",
      "\n",
      "\n",
      "This dataset was taken from the StatLib library which is maintained at Carnegie Mellon University.\n",
      "\n",
      "The Boston house-price data of Harrison, D. and Rubinfeld, D.L. 'Hedonic\n",
      "prices and the demand for clean air', J. Environ. Economics & Management,\n",
      "vol.5, 81-102, 1978.   Used in Belsley, Kuh & Welsch, 'Regression diagnostics\n",
      "...', Wiley, 1980.   N.B. Various transformations are used in the table on\n",
      "pages 244-261 of the latter.\n",
      "\n",
      "The Boston house-price data has been used in many machine learning papers that address regression\n",
      "problems.   \n",
      "     \n",
      ".. topic:: References\n",
      "\n",
      "   - Belsley, Kuh & Welsch, 'Regression diagnostics: Identifying Influential Data and Sources of Collinearity', Wiley, 1980. 244-261.\n",
      "   - Quinlan,R. (1993). Combining Instance-Based and Model-Based Learning. In Proceedings on the Tenth International Conference of Machine Learning, 236-243, University of Massachusetts, Amherst. Morgan Kaufmann.\n",
      "\n"
     ]
    }
   ],
   "source": [
    "print(boston.DESCR)"
   ]
  },
  {
   "cell_type": "code",
   "execution_count": 38,
   "metadata": {},
   "outputs": [],
   "source": [
    "boston = load_boston()"
   ]
  },
  {
   "cell_type": "code",
   "execution_count": 24,
   "metadata": {},
   "outputs": [],
   "source": [
    "data = boston['data']"
   ]
  },
  {
   "cell_type": "code",
   "execution_count": 25,
   "metadata": {},
   "outputs": [],
   "source": [
    "target = boston['target']"
   ]
  },
  {
   "cell_type": "code",
   "execution_count": 29,
   "metadata": {},
   "outputs": [],
   "source": [
    "dt = DecisionTreeRegressor().fit(X=pd.DataFrame(data), y=target)"
   ]
  },
  {
   "cell_type": "code",
   "execution_count": 31,
   "metadata": {},
   "outputs": [
    {
     "data": {
      "text/plain": [
       "array([27.35555556, 21.54444444, 35.36      , 35.36      , 33.82      ,\n",
       "       24.7       , 19.2       , 21.5       , 17.81666667, 21.5       ,\n",
       "       17.81666667, 19.2       , 22.24      , 18.5       , 19.2       ,\n",
       "       20.44      , 22.1       , 17.88333333, 22.56666667, 17.88333333,\n",
       "       13.75      , 19.94285714, 15.88333333, 13.75      , 15.88333333,\n",
       "       16.03333333, 18.        , 14.56      , 19.2       , 19.94285714,\n",
       "       13.75      , 17.        , 12.48571429, 14.56      , 12.48571429,\n",
       "       18.5       , 24.86      , 20.44      , 22.95      , 28.14285714,\n",
       "       36.1       , 28.14285714, 23.68      , 23.68      , 23.68      ,\n",
       "       19.2       , 18.        , 19.06666667, 17.81666667, 20.05      ,\n",
       "       19.2       , 21.54444444, 26.36      , 22.1       , 18.        ,\n",
       "       33.78      , 24.7       , 30.4       , 23.12      , 19.55      ,\n",
       "       18.        , 19.2       , 23.48      , 25.975     , 31.5       ,\n",
       "       23.28888889, 19.2       , 22.1       , 18.        , 22.1       ,\n",
       "       23.48      , 21.07142857, 23.12      , 23.12      , 22.95714286,\n",
       "       22.95714286, 17.        , 21.025     , 21.07142857, 20.44      ,\n",
       "       25.975     , 25.975     , 23.28888889, 23.28888889, 21.54444444,\n",
       "       28.14285714, 22.95      , 23.68      , 28.5       , 28.5       ,\n",
       "       21.54444444, 21.54444444, 23.28888889, 23.28888889, 20.76666667,\n",
       "       27.35555556, 22.95      , 36.48      , 36.48      , 33.82      ,\n",
       "       25.975     , 25.975     , 16.74      , 19.94285714, 19.94285714,\n",
       "       17.9       , 17.9       , 19.94285714, 19.94285714, 19.06666667,\n",
       "       21.83333333, 20.76666667, 17.9       , 17.94285714, 20.05      ,\n",
       "       21.5       , 22.38571429, 20.76666667, 20.05      , 21.025     ,\n",
       "       22.38571429, 20.05      , 17.9       , 17.9       , 17.9       ,\n",
       "       19.06      , 14.9       , 17.94285714, 17.94285714, 15.88333333,\n",
       "       20.05      , 20.76666667, 22.38571429, 17.94285714, 14.56      ,\n",
       "       17.94285714, 15.88333333, 19.06      , 13.75      , 17.94285714,\n",
       "       13.75      , 13.75      , 14.9       , 14.9       , 14.9       ,\n",
       "       12.48571429, 16.03333333, 14.9       , 14.9       , 14.9       ,\n",
       "       19.71666667, 19.71666667, 17.        , 16.03333333, 16.03333333,\n",
       "       16.03333333, 16.03333333, 40.34      , 24.98      , 24.98      ,\n",
       "       24.98      , 50.        , 50.        , 50.        , 20.76666667,\n",
       "       22.56666667, 50.        , 22.56666667, 22.56666667, 22.56666667,\n",
       "       22.56666667, 17.        , 22.95      , 23.48      , 18.5       ,\n",
       "       30.42857143, 22.95      , 22.95714286, 27.35555556, 35.36      ,\n",
       "       43.85      , 24.7       , 40.34      , 33.02      , 24.86      ,\n",
       "       24.86      , 49.55      , 30.42857143, 30.42857143, 36.1       ,\n",
       "       36.1       , 30.42857143, 36.1       , 30.4       , 30.4       ,\n",
       "       49.55      , 33.78      , 31.5       , 33.78      , 31.5       ,\n",
       "       33.78      , 24.7       , 43.85      , 49.55      , 49.55      ,\n",
       "       23.13333333, 23.13333333, 20.05      , 23.13333333, 17.81666667,\n",
       "       21.5       , 17.81666667, 22.24      , 26.36      , 22.24      ,\n",
       "       23.68      , 23.13333333, 27.35555556, 21.5       , 22.38571429,\n",
       "       28.5       , 17.81666667, 26.        , 27.35555556, 44.48      ,\n",
       "       44.48      , 44.48      , 28.5       , 43.85      , 30.42857143,\n",
       "       24.86      , 28.5       , 44.48      , 44.48      , 27.35555556,\n",
       "       24.86      , 27.35555556, 28.5       , 23.48      , 23.88      ,\n",
       "       26.        , 21.07142857, 21.07142857, 23.48      , 18.        ,\n",
       "       20.05      , 22.95714286, 21.07142857, 24.58571429, 25.975     ,\n",
       "       24.58571429, 24.58571429, 31.5       , 36.48      , 23.28888889,\n",
       "       19.55      , 43.85      , 50.        , 40.34      , 30.4       ,\n",
       "       28.5       , 43.85      , 49.55      , 26.        , 40.34      ,\n",
       "       22.95      , 26.        , 50.        , 43.85      , 21.83333333,\n",
       "       21.83333333, 26.36      , 26.36      , 36.48      , 33.02      ,\n",
       "       33.02      , 33.82      , 33.02      , 26.36      , 33.02      ,\n",
       "       43.85      , 35.36      , 43.85      , 49.55      , 31.5       ,\n",
       "       24.7       , 21.07142857, 23.28888889, 23.28888889, 23.88      ,\n",
       "       28.14285714, 36.1       , 28.14285714, 24.98      , 21.07142857,\n",
       "       30.42857143, 27.35555556, 22.24      , 24.7       , 31.5       ,\n",
       "       23.88      , 23.88      , 24.98      , 33.82      , 35.36      ,\n",
       "       28.14285714, 33.82      , 28.14285714, 22.94      , 17.88333333,\n",
       "       17.        , 22.95714286, 19.94285714, 22.95714286, 22.94      ,\n",
       "       17.88333333, 19.06666667, 20.05      , 23.13333333, 23.13333333,\n",
       "       24.58571429, 23.12      , 20.44      , 18.        , 24.58571429,\n",
       "       24.58571429, 23.12      , 19.2       , 19.2       , 22.95714286,\n",
       "       21.54444444, 18.        , 19.55      , 21.54444444, 21.54444444,\n",
       "       22.1       , 19.2       , 19.2       , 20.44      , 19.2       ,\n",
       "       18.5       , 33.78      , 24.7       , 27.35555556, 30.42857143,\n",
       "       19.2       , 18.        , 23.28888889, 23.88      , 25.975     ,\n",
       "       24.7       , 25.975     , 19.55      , 30.4       , 19.55      ,\n",
       "       19.55      , 15.88333333, 22.38571429, 20.76666667, 22.38571429,\n",
       "       24.58571429, 19.71666667, 20.05      , 19.71666667, 36.48      ,\n",
       "       45.5       , 22.56666667, 16.74      , 45.5       , 45.5       ,\n",
       "       40.34      , 45.5       , 45.5       , 12.54444444, 12.54444444,\n",
       "       26.        , 12.54444444, 12.54444444, 12.54444444, 12.54444444,\n",
       "       10.48333333, 12.54444444, 11.5       , 11.5       ,  8.825     ,\n",
       "        8.825     ,  8.825     ,  8.825     ,  8.825     , 11.5       ,\n",
       "       13.1       , 19.06666667,  8.825     , 13.1       , 10.48333333,\n",
       "       13.1       , 13.1       , 13.1       ,  5.82      ,  5.82      ,\n",
       "        5.82      ,  5.82      , 11.5       , 10.48333333,  8.24285714,\n",
       "        5.82      , 12.54444444, 22.56666667, 15.8       , 18.74      ,\n",
       "       16.74      , 15.8       , 15.8       , 18.74      ,  8.24285714,\n",
       "        8.24285714,  8.24285714,  8.24285714,  8.24285714,  8.825     ,\n",
       "       18.74      , 13.1       , 22.56666667, 15.8       , 10.48333333,\n",
       "        8.24285714, 10.48333333, 16.74      , 11.5       , 11.5       ,\n",
       "       13.1       , 13.8       , 16.74      , 16.03333333, 13.8       ,\n",
       "       11.04      , 10.48333333, 11.04      ,  8.825     , 11.5       ,\n",
       "       11.04      , 15.88333333, 17.94285714, 18.74      , 11.04      ,\n",
       "       11.04      , 13.8       , 15.88333333, 15.88333333, 13.8       ,\n",
       "       13.8       , 14.56      , 15.88333333, 18.74      , 13.8       ,\n",
       "       14.56      , 12.48571429, 13.8       , 13.8       , 19.06      ,\n",
       "       16.03333333, 19.06      , 20.76666667, 20.76666667, 21.025     ,\n",
       "       19.71666667, 16.03333333, 12.48571429, 15.88333333, 21.025     ,\n",
       "       19.06666667, 20.76666667, 22.38571429, 26.        , 13.8       ,\n",
       "       15.8       , 15.88333333, 12.54444444, 15.88333333, 20.05      ,\n",
       "       21.025     , 22.94      , 28.5       , 21.025     , 19.71666667,\n",
       "       21.025     , 19.06      , 21.025     , 17.9       , 12.48571429,\n",
       "       12.48571429, 17.9       , 20.05      , 21.83333333, 21.83333333,\n",
       "       22.24      , 20.05      , 17.88333333, 21.83333333, 19.06666667,\n",
       "       17.88333333, 22.94      , 21.54444444, 28.5       , 22.94      ,\n",
       "       18.5       ])"
      ]
     },
     "execution_count": 31,
     "metadata": {},
     "output_type": "execute_result"
    }
   ],
   "source": [
    "dt.predict(pd.DataFrame(data))"
   ]
  },
  {
   "cell_type": "code",
   "execution_count": null,
   "metadata": {},
   "outputs": [],
   "source": []
  },
  {
   "cell_type": "code",
   "execution_count": 3,
   "metadata": {},
   "outputs": [
    {
     "data": {
      "text/plain": [
       "__main__.DecisionTreeRegressor"
      ]
     },
     "execution_count": 3,
     "metadata": {},
     "output_type": "execute_result"
    }
   ],
   "source": [
    "DecisionTreeRegressor"
   ]
  },
  {
   "cell_type": "code",
   "execution_count": null,
   "metadata": {},
   "outputs": [],
   "source": []
  },
  {
   "cell_type": "code",
   "execution_count": null,
   "metadata": {},
   "outputs": [],
   "source": []
  }
 ],
 "metadata": {
  "kernelspec": {
   "display_name": "Python 3",
   "language": "python",
   "name": "python3"
  },
  "language_info": {
   "codemirror_mode": {
    "name": "ipython",
    "version": 3
   },
   "file_extension": ".py",
   "mimetype": "text/x-python",
   "name": "python",
   "nbconvert_exporter": "python",
   "pygments_lexer": "ipython3",
   "version": "3.7.0"
  }
 },
 "nbformat": 4,
 "nbformat_minor": 2
}
